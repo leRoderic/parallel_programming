{
  "nbformat": 4,
  "nbformat_minor": 0,
  "metadata": {
    "accelerator": "GPU",
    "colab": {
      "name": "CUDALab.ipynb",
      "provenance": [],
      "collapsed_sections": []
    },
    "kernelspec": {
      "display_name": "Python 3",
      "language": "python",
      "name": "python3"
    },
    "language_info": {
      "codemirror_mode": {
        "name": "ipython",
        "version": 3
      },
      "file_extension": ".py",
      "mimetype": "text/x-python",
      "name": "python",
      "nbconvert_exporter": "python",
      "pygments_lexer": "ipython3",
      "version": "3.7.6"
    }
  },
  "cells": [
    {
      "cell_type": "markdown",
      "metadata": {
        "id": "5bx2JSyCHfCq"
      },
      "source": [
        "# Programaciò paral·lela\n",
        "## Lab 2: Color conversion in CUDA\n",
        "\n",
        "Following the previous laboratory based on OpenMP, now we are going to work on the same simple algorithm, in CUDA.\n",
        "\n",
        "The goal of this lab is to learn the basics of CUDA kernels, and CUDA Host code.\n",
        "\n",
        "This new ipython notebook format, will make things easyer since explanation and code will coexist in the same document, and it will be very clear what you need to do.\n",
        "\n",
        "Additionally, having the Colab platform available with NVIDIA GPU's makes it simpler than ever. You can learn CUDA from any system, Mac, Windows, Linux, and any hardware, Intel, AMD, NVIDIA, and possibliy even ARM on tablets. You only need a web browser compatible with Colab.\n",
        "\n",
        "## Structure of the Lab\n",
        "You already know the algorithm from the previous lab, but you may not be familiar with this environment.\n",
        "\n",
        "First we will try to understand a bit this environment, and then we will explain section by section what you have to do. There are 6 sections.\n",
        "\n",
        "You will have to complete code in the 6 sections, and perform experiments and comment the results in a separated report. Use tables and figures that support both the results you collected and the arguments you make to justify the results.\n",
        "\n",
        "## The collab environment for CUDA\n",
        "\n",
        "First of all, you should know that we are executing an iPython notebook in a Google Colab session. The notebook is preconfigured with the type of execution environment we need, a GPU execution environment. But the files we generate, and the pluggins we install or enable, reside on the Google Colab session. All this will be removed when we exit the session either manually or implicitly by closing the broser.\n",
        "\n",
        "In order to have a GPU available when creating a new notebook, you only have to select the execution environment.\n",
        "In Spanish, go to \"Entorno de ejecución->Cambiar tipo de entorno de ejecución\" and then select GPU.\n",
        "\n",
        "But as we already mentioned, this notebook is already configured, so you don't need to do it again.\n",
        "\n",
        "Now, the first thing we will see is that we have the nvcc compiler. We can call many bash commands with ! as the first character, in a code block. Next you will find a code block with a call to nvcc (the nvidia CUDA compiler) with a flag that asks for the compiler version.\n",
        "\n",
        "Click on the block and then a play button will appear on the left. Click on the play button. \n"
      ]
    },
    {
      "cell_type": "code",
      "metadata": {
        "id": "tNXYi-1xD-Zs",
        "colab": {
          "base_uri": "https://localhost:8080/"
        },
        "outputId": "2849d96b-01f4-4315-8651-142afad29440"
      },
      "source": [
        "!nvcc --version"
      ],
      "execution_count": 1,
      "outputs": [
        {
          "output_type": "stream",
          "text": [
            "nvcc: NVIDIA (R) Cuda compiler driver\n",
            "Copyright (c) 2005-2020 NVIDIA Corporation\n",
            "Built on Wed_Jul_22_19:09:09_PDT_2020\n",
            "Cuda compilation tools, release 11.0, V11.0.221\n",
            "Build cuda_11.0_bu.TC445_37.28845127_0\n"
          ],
          "name": "stdout"
        }
      ]
    },
    {
      "cell_type": "markdown",
      "metadata": {
        "id": "A4rhjdqSImo2"
      },
      "source": [
        "You can also execute it by placing the cursor inside the code block and pressing Shift+Enter\n",
        "\n",
        "Next you need to install a pluggin, that does not come with the notebook. In the following code block you have the code line to be executed. You will have to execute this code every time you open the notebook."
      ]
    },
    {
      "cell_type": "code",
      "metadata": {
        "id": "2l1NOZW5ET_p",
        "colab": {
          "base_uri": "https://localhost:8080/"
        },
        "outputId": "9cf65a71-fe21-4304-b6f6-c69744c4bd00"
      },
      "source": [
        "!pip install git+git://github.com/andreinechaev/nvcc4jupyter.git\n",
        "%load_ext nvcc_plugin"
      ],
      "execution_count": 2,
      "outputs": [
        {
          "output_type": "stream",
          "text": [
            "Collecting git+git://github.com/andreinechaev/nvcc4jupyter.git\n",
            "  Cloning git://github.com/andreinechaev/nvcc4jupyter.git to /tmp/pip-req-build-__elu028\n",
            "  Running command git clone -q git://github.com/andreinechaev/nvcc4jupyter.git /tmp/pip-req-build-__elu028\n",
            "Building wheels for collected packages: NVCCPlugin\n",
            "  Building wheel for NVCCPlugin (setup.py) ... \u001b[?25l\u001b[?25hdone\n",
            "  Created wheel for NVCCPlugin: filename=NVCCPlugin-0.0.2-cp37-none-any.whl size=4307 sha256=ecaae3cbfbb2079039e78526dca8650cf69c6d947408fd6104bbe07d5d6dc68e\n",
            "  Stored in directory: /tmp/pip-ephem-wheel-cache-4p47z2zl/wheels/10/c2/05/ca241da37bff77d60d31a9174f988109c61ba989e4d4650516\n",
            "Successfully built NVCCPlugin\n",
            "Installing collected packages: NVCCPlugin\n",
            "Successfully installed NVCCPlugin-0.0.2\n",
            "created output directory at /content/src\n",
            "Out bin /content/result.out\n"
          ],
          "name": "stdout"
        }
      ]
    },
    {
      "cell_type": "markdown",
      "metadata": {
        "id": "uuMz7OOYJVfk"
      },
      "source": [
        "Now, you can compile and execute CUDA code, just by puting the same code you would put ina .cu file, just by adding %%cu as the first line.\n",
        "\n",
        "Next, you have a code example. Try it! Read the comments to help you understand it. It will be very useful for the tasks you have to do."
      ]
    },
    {
      "cell_type": "code",
      "metadata": {
        "id": "x03T7kcmEgu4",
        "colab": {
          "base_uri": "https://localhost:8080/"
        },
        "outputId": "d332310d-51e7-4bc4-f5bd-36e33d63b18b"
      },
      "source": [
        "%%cu\n",
        "#include <stdio.h>\n",
        "#include <stdlib.h>\n",
        "\n",
        "// Function to print the cuda errors\n",
        "void cuCheck(cudaError_t err) {\n",
        "    if(err!=cudaSuccess) {\n",
        "          printf(\"CUDA error copying to Host: %s\\n\", cudaGetErrorString(err));\n",
        "    }\n",
        "}\n",
        "\n",
        "// This macros help with capturing the possible cuda errors and printing\n",
        "// the error name to help the developer.\n",
        "// Kernels are always asynchronous with respect to the Host, so they don't return\n",
        "// any value. Then to see if any error happened, you should call cudaGetLastError\n",
        "// and pass the result to cuCheck()\n",
        "// Use the macros instead, to make it simpler.\n",
        "#define CU_CHECK(a) cuCheck(a)\n",
        "#define CU_CHECK_LAST_ERROR cuCheck(cudaGetLastError())\n",
        "\n",
        "// Device code or Kernel\n",
        "__global__ void add(int a, int b, int* __restrict d_c) {\n",
        "    *d_c = a * b;\n",
        "}\n",
        "\n",
        "// Host code\n",
        "int main() {\n",
        "    \n",
        "    // Host variables a & b\n",
        "    int a = 3, b = 5, h_c = 0;\n",
        "\n",
        "    // Host variable that will store a Device pointer wich we can later on \n",
        "    // download to the Host.\n",
        "    // As this variable will contain pointers that are only valid in\n",
        "    // the Device (the GPU) it will be invalid to access them from\n",
        "    // Host code. We only can use them in the right cuda API calls\n",
        "    // or inside a cuda Kernel.\n",
        "    // So in this part of the code you won't be able to do d_c[0], for instance\n",
        "    int *d_c;\n",
        "\n",
        "    // Size of the data contained in variables a, b and c.\n",
        "    int dataSize = sizeof(int);\n",
        "\n",
        "    // Reserve Device memory using the cuda API\n",
        "    // cudaMalloc will place a Device pointer inside d_c.\n",
        "    CU_CHECK(\n",
        "        cudaMalloc((void **)&d_c, dataSize)\n",
        "    );\n",
        "\n",
        "    // Launch add() kernel on GPU\n",
        "    // Notice that a and b are not pointers. Therefore the kernel call will\n",
        "    // copy their values but the variables inside the kernel will not be the same.\n",
        "    // If we modify a and b inside the kernel, it will not change a and b in this\n",
        "    // Host code. This, indeed is the same behavior as any C/C++ function call.\n",
        "    // In the case of d_c, it will copy the pointer contained in d_c, \n",
        "    // so we will be able to modify the contents of d_c from the kernel. But to read \n",
        "    // them from this Host code, we will have to do something else.\n",
        "    add<<<1,1>>>(a, b, d_c);\n",
        "    CU_CHECK_LAST_ERROR;\n",
        "\n",
        "    CU_CHECK(\n",
        "        // Copy result back to host\n",
        "        cudaMemcpy(&h_c, d_c, dataSize, cudaMemcpyDeviceToHost)\n",
        "    );\n",
        "\n",
        "    printf(\"Result of multiplying %d * %d is %d\\n\\n\",a,b,h_c);\n",
        "\n",
        "    int numDevs=0;\n",
        "    CU_CHECK(\n",
        "        cudaGetDeviceCount(&numDevs)\n",
        "    );\n",
        "\n",
        "    cudaDeviceProp prop;\n",
        "    CU_CHECK(\n",
        "        cudaGetDeviceProperties(&prop, 0)\n",
        "    );\n",
        "    printf(\"Device Number: %d\\n\", 0);\n",
        "    printf(\"  Device name: %s\\n\", prop.name);\n",
        "    printf(\"  Memory Clock Rate (KHz): %d\\n\",\n",
        "          prop.memoryClockRate);\n",
        "    printf(\"  Memory Bus Width (bits): %d\\n\",\n",
        "          prop.memoryBusWidth);\n",
        "    printf(\"  Peak Memory Bandwidth (GB/s): %f\\n\\n\",\n",
        "          2.0*prop.memoryClockRate*(prop.memoryBusWidth/8)/1.0e6);\n",
        "    printf(\"Num devices %d\\n\", numDevs);\n",
        "    // Cleanup\n",
        "    CU_CHECK(\n",
        "      cudaFree(d_c)\n",
        "    );\n",
        "    return 0;\n",
        "}"
      ],
      "execution_count": 3,
      "outputs": [
        {
          "output_type": "stream",
          "text": [
            "Result of multiplying 3 * 5 is 15\n",
            "\n",
            "Device Number: 0\n",
            "  Device name: Tesla P100-PCIE-16GB\n",
            "  Memory Clock Rate (KHz): 715000\n",
            "  Memory Bus Width (bits): 4096\n",
            "  Peak Memory Bandwidth (GB/s): 732.160000\n",
            "\n",
            "Num devices 1\n",
            "\n"
          ],
          "name": "stdout"
        }
      ]
    },
    {
      "cell_type": "markdown",
      "metadata": {
        "id": "ajyZJvBCZR7p"
      },
      "source": [
        "Ok, cool! But what if I want to have some code in a .h file, the cuda kernels in an other .h file, and include both so that I can reuse code?\n",
        "\n",
        "Ok, let's try to put the macros and cuCheck function in a .h file, the kernel in an other .h file and the rest in a .cu file, and compile and execute everything. "
      ]
    },
    {
      "cell_type": "code",
      "metadata": {
        "id": "SlObGBaEZ5M7",
        "colab": {
          "base_uri": "https://localhost:8080/",
          "height": 35
        },
        "outputId": "2d11f7cb-ab61-4e81-8a8c-22cc091d48b9"
      },
      "source": [
        "%%cuda --name utils.h\n",
        "#include <iostream>\n",
        "\n",
        "void cuCheck(cudaError_t err, const std::string message = \"CUDA error:\") {\n",
        "  if(err!=cudaSuccess) {\n",
        "    std::cout << message << \" ERROR \" << cudaGetErrorString(err) << std::endl;\n",
        "  }\n",
        "}\n",
        "#define CU_CHECK(a) cuCheck(a)\n",
        "#define CU_CHECK2(a, b) cuCheck(a, b)\n",
        "#define CU_CHECK_LAST_ERROR cuCheck(cudaGetLastError())"
      ],
      "execution_count": 4,
      "outputs": [
        {
          "output_type": "execute_result",
          "data": {
            "application/vnd.google.colaboratory.intrinsic+json": {
              "type": "string"
            },
            "text/plain": [
              "'File written in /content/src/utils.h'"
            ]
          },
          "metadata": {
            "tags": []
          },
          "execution_count": 4
        }
      ]
    },
    {
      "cell_type": "code",
      "metadata": {
        "id": "DEoYz9uug7om",
        "colab": {
          "base_uri": "https://localhost:8080/",
          "height": 35
        },
        "outputId": "26fd468b-2761-422e-a09c-8a55cb70538d"
      },
      "source": [
        "%%cuda --name kernels.h\n",
        "__global__ void add(int a, int b, int* __restrict d_c) {\n",
        "    *d_c = a * b;\n",
        "}"
      ],
      "execution_count": 5,
      "outputs": [
        {
          "output_type": "execute_result",
          "data": {
            "application/vnd.google.colaboratory.intrinsic+json": {
              "type": "string"
            },
            "text/plain": [
              "'File written in /content/src/kernels.h'"
            ]
          },
          "metadata": {
            "tags": []
          },
          "execution_count": 5
        }
      ]
    },
    {
      "cell_type": "code",
      "metadata": {
        "id": "WdHjgZRHlSGe",
        "colab": {
          "base_uri": "https://localhost:8080/"
        },
        "outputId": "d12c3158-a8f6-4fba-cdb4-32986288b488"
      },
      "source": [
        "%%cu\n",
        "#include <stdio.h>\n",
        "#include <stdlib.h>\n",
        "#include \"/content/src/utils.h\"\n",
        "#include \"/content/src/kernels.h\"\n",
        "\n",
        "// Host code\n",
        "int main() {\n",
        "    int a = 3, b = 5, h_c = 0;\n",
        "    int *d_c;\n",
        "    int dataSize = sizeof(int);\n",
        "    CU_CHECK(cudaMalloc((void **)&d_c, dataSize));\n",
        "    add<<<1,1>>>(a, b, d_c);\n",
        "    CU_CHECK_LAST_ERROR;\n",
        "    CU_CHECK(cudaMemcpy(&h_c, d_c, dataSize, cudaMemcpyDeviceToHost));\n",
        "    int numDevs=0;\n",
        "    CU_CHECK(cudaGetDeviceCount(&numDevs));\n",
        "    cudaDeviceProp prop;\n",
        "    CU_CHECK(cudaGetDeviceProperties(&prop, 0));\n",
        "    printf(\"Device Number: %d\\n\", 0);\n",
        "    printf(\"  Device name: %s\\n\", prop.name);\n",
        "    printf(\"  Memory Clock Rate (KHz): %d\\n\",\n",
        "          prop.memoryClockRate);\n",
        "    printf(\"  Memory Bus Width (bits): %d\\n\",\n",
        "          prop.memoryBusWidth);\n",
        "    printf(\"  Peak Memory Bandwidth (GB/s): %f\\n\\n\",\n",
        "          2.0*prop.memoryClockRate*(prop.memoryBusWidth/8)/1.0e6);\n",
        "    printf(\"Num devices %d\\n\", numDevs);\n",
        "    printf(\"Result of multiplying %d * %d is %d\\n\",a,b,h_c);\n",
        "    CU_CHECK(cudaFree(d_c));\n",
        "    return 0;\n",
        "}"
      ],
      "execution_count": 6,
      "outputs": [
        {
          "output_type": "stream",
          "text": [
            "Device Number: 0\n",
            "  Device name: Tesla P100-PCIE-16GB\n",
            "  Memory Clock Rate (KHz): 715000\n",
            "  Memory Bus Width (bits): 4096\n",
            "  Peak Memory Bandwidth (GB/s): 732.160000\n",
            "\n",
            "Num devices 1\n",
            "Result of multiplying 3 * 5 is 15\n",
            "\n"
          ],
          "name": "stdout"
        }
      ]
    },
    {
      "cell_type": "markdown",
      "metadata": {
        "id": "a8rWgfJ8hN3m"
      },
      "source": [
        "VERY IMPORTANT!!! On each Colab session, the GPU that Google Colab provides can be different. Take it into account when you perform experiments, so that you compare results for the same GPU.\n",
        "\n",
        "If you have to repeat all the experiments, well, it's not that hard, just click play in all the code blocks one by one.\n",
        "\n",
        "Great!! Now we can start the lab :-D"
      ]
    },
    {
      "cell_type": "markdown",
      "metadata": {
        "id": "nX0Yv50Wh4nY"
      },
      "source": [
        "##Section 1:\n",
        "\n",
        "Try to complete the following code, and make it compile. Remember that you have some slides and documents, and the CUDA API specification in the following link: https://docs.nvidia.com/cuda/cuda-runtime-api/index.html\n",
        "\n",
        "Also, you can search in Google, things like \"How to allocate CUDA memory\". And so on. Be brave! Is not so difficult.\n",
        "\n",
        "### First, complete the allocation functions."
      ]
    },
    {
      "cell_type": "code",
      "metadata": {
        "id": "u6Bj54YdVsjI",
        "colab": {
          "base_uri": "https://localhost:8080/",
          "height": 35
        },
        "outputId": "efe93afc-b4d5-4e81-db24-fc66325f9b3f"
      },
      "source": [
        "%%cuda --name memory_functions.h\n",
        "void allocGPUData(int width, int height, uchar3** d_brg, uchar4** d_rgba){\n",
        "  // Alloc gpu pointers\n",
        "  CU_CHECK2(cudaMalloc(d_brg, sizeof(uchar3)*width*height), \"Alloc d_brg:\");\n",
        "  // Can you finish this one? Replace cudaSucces with the proper cuda API call\n",
        "  CU_CHECK2(cudaMalloc(d_rgba, sizeof(uchar4)*width*height), \"Alloc d_rgba:\");\n",
        "}\n",
        "void copyAndInitializeGPUData(int width, int height, uchar3* h_brg, uchar3* d_brg, uchar4* d_rgba, cudaStream_t stream=0) {\n",
        "  // Copy data to GPU\n",
        "  CU_CHECK2(cudaMemcpy(d_brg, h_brg, width*height*sizeof(uchar3), cudaMemcpyHostToDevice), \"Copy h_brg to d_brg:\");\n",
        "  // Init output buffer to 0\n",
        "  CU_CHECK2(cudaMemset(d_rgba, 0, width*height*sizeof(uchar4)), \"Memset d_rgba:\");\n",
        "}\n",
        "void freeCUDAPointers(uchar3* d_brg, uchar4* d_rgba) {\n",
        "  // Free cuda pointers. Replace the cudaErrorInvalidValue flag\n",
        "  // with the proper cuda API call, to free the GPU pointers\n",
        "  CU_CHECK2(cudaFree(d_brg), \"Cuda free d_bgr:\");\n",
        "  CU_CHECK2(cudaFree(d_rgba), \"Cuda free d_rgba:\");\n",
        "  // Clean GPU device\n",
        "  CU_CHECK2(cudaDeviceReset(), \"Cuda device reset:\");\n",
        "}"
      ],
      "execution_count": 7,
      "outputs": [
        {
          "output_type": "execute_result",
          "data": {
            "application/vnd.google.colaboratory.intrinsic+json": {
              "type": "string"
            },
            "text/plain": [
              "'File written in /content/src/memory_functions.h'"
            ]
          },
          "metadata": {
            "tags": []
          },
          "execution_count": 7
        }
      ]
    },
    {
      "cell_type": "markdown",
      "metadata": {
        "id": "s30mTBEIWcX6"
      },
      "source": [
        "### When completed, test that they work with this small main function. If you execute it without completing the previous code, it will show some errors."
      ]
    },
    {
      "cell_type": "code",
      "metadata": {
        "id": "Tup9fxlwWl64",
        "colab": {
          "base_uri": "https://localhost:8080/"
        },
        "outputId": "79a56eef-bee7-4cd5-f8cb-353b0b507d4a"
      },
      "source": [
        "%%cu\n",
        "#include <cuda.h>\n",
        "#include \"/content/src/utils.h\"\n",
        "#include \"/content/src/memory_functions.h\"\n",
        "\n",
        "#define WIDTH 10\n",
        "#define HEIGHT 10\n",
        "\n",
        "int main() {\n",
        "\n",
        "  uchar3 *h_brg, *d_brg;\n",
        "  uchar4 *h_rgba, *d_rgba;\n",
        "\n",
        "  h_brg = (uchar3*)malloc(sizeof(uchar3)*WIDTH*HEIGHT);\n",
        "  h_rgba = (uchar4*)malloc(sizeof(uchar4)*WIDTH*HEIGHT);\n",
        "\n",
        "  allocGPUData(WIDTH, HEIGHT, &d_brg, &d_rgba);\n",
        "  copyAndInitializeGPUData(WIDTH, HEIGHT, h_brg, d_brg, d_rgba);\n",
        "  freeCUDAPointers(d_brg, d_rgba);\n",
        "\n",
        "  return 0;\n",
        "}"
      ],
      "execution_count": 8,
      "outputs": [
        {
          "output_type": "stream",
          "text": [
            "\n"
          ],
          "name": "stdout"
        }
      ]
    },
    {
      "cell_type": "markdown",
      "metadata": {
        "id": "cSfdiwiHZKPT"
      },
      "source": [
        "### Ok, now that we have the allocation, copy and free functions implemented, let's continue with the CPU function that will check the results. This one it's already implemented, you only need to click play to have it available."
      ]
    },
    {
      "cell_type": "code",
      "metadata": {
        "id": "2fywcbihaBaR",
        "colab": {
          "base_uri": "https://localhost:8080/",
          "height": 35
        },
        "outputId": "30006712-e627-42f9-bdfc-cdd4505e7805"
      },
      "source": [
        "%%cuda --name check_results.h\n",
        "bool checkResults(uchar4* rgba, uchar3* brg, int size) {\n",
        "  bool correct = true;\n",
        "  for (int i=0; i < size; ++i) {\n",
        "    // In case you want to see actual values\n",
        "    if (i==3) {\n",
        "      unsigned char x, y, z, w;\n",
        "      x = rgba[i].x;\n",
        "      y = rgba[i].y;\n",
        "      z = rgba[i].z;\n",
        "      w = rgba[i].w;\n",
        "      std::cout << \"First position x=\" << (unsigned int)x << \" y=\" << (unsigned int)y << \" z=\" << (unsigned int)z << \" w=\" << (unsigned int)w << std::endl;\n",
        "    }\n",
        "    correct &= rgba[i].x == brg[i].y;\n",
        "    correct &= rgba[i].y == brg[i].z;\n",
        "    correct &= rgba[i].z == brg[i].x;\n",
        "    correct &= rgba[i].w == 255;\n",
        "  }\n",
        "  return correct;\n",
        "}"
      ],
      "execution_count": 9,
      "outputs": [
        {
          "output_type": "execute_result",
          "data": {
            "application/vnd.google.colaboratory.intrinsic+json": {
              "type": "string"
            },
            "text/plain": [
              "'File written in /content/src/check_results.h'"
            ]
          },
          "metadata": {
            "tags": []
          },
          "execution_count": 9
        }
      ]
    },
    {
      "cell_type": "markdown",
      "metadata": {
        "id": "Dl-YagCWaZOS"
      },
      "source": [
        "### Now the interesting part, the kernel and the code to configure and launch it. The kernel it's almost exactly the same code as the OpenMP lab, only we replaced the forloops with something that you need to implement.\n",
        "\n",
        "Remember, that we have threads with indexes. This indexes are used to tell each CUDA thread, which data do they have to read or write.\n",
        "\n",
        "The structs that contain those indexes are in the documentation you have available in campusvirtual. Please check the docs."
      ]
    },
    {
      "cell_type": "code",
      "metadata": {
        "id": "Et3Bww3PbMgw",
        "colab": {
          "base_uri": "https://localhost:8080/",
          "height": 35
        },
        "outputId": "910b0fad-c532-4d37-e851-3f395145729d"
      },
      "source": [
        "%%cuda --name cuda_launcher.h\n",
        "// BIDIMENSIONAL KERNEL\n",
        "__global__ void convertBRG2RGBA(uchar3 *brg, uchar4* rgba, int width, int height) {\n",
        "  int x = threadIdx.x + (blockIdx.x * blockDim.x); //Use the thread id and block id's to compute x \n",
        "  int y = threadIdx.y + (blockIdx.y * blockDim.y); //Use the thread id and block id's to compute y\n",
        "\n",
        "\t// Protection to avoid segmentation fault\n",
        "\tif (x < width && y < height) {\t\n",
        "\t    rgba[width * y + x].x = brg[width * y + x].y;\n",
        "\t    rgba[width * y + x].y = brg[width * y + x].z;\n",
        "\t    rgba[width * y + x].z = brg[width * y + x].x;\n",
        "\t    rgba[width * y + x].w = 255;\n",
        "\t}\n",
        "}\n",
        "\n",
        "void executeKernelconvertBRG2RGBA(int width, int height, uchar3* d_brg, uchar4* d_rgba, int numIters, cudaStream_t stream=0) {\n",
        "  // Execute the GPU kernel\n",
        "  dim3 block(256, 4, 1);\n",
        "  dim3 grid(ceil(width/(float)block.x),ceil(height/(float)block.y) , 1);\n",
        "\n",
        "  // A trick to avoid some undesired optimizations, that will not happen in real applications\n",
        "  uchar3* d_dataVector[2];\n",
        "  uchar3* d_secondData;\n",
        "  CU_CHECK2(cudaMalloc(&d_secondData, width * height * sizeof(uchar3)), \"cudaMalloc in executeKernelconvertBRG2RGBA\");\n",
        "\n",
        "  d_dataVector[0] = d_brg;\n",
        "  d_dataVector[1] = d_secondData;\n",
        "\n",
        "  CU_CHECK2(cudaMemcpyAsync(d_secondData, d_brg, width * height * sizeof(uchar3), cudaMemcpyDeviceToDevice, stream), \"cudaMemcpyAsync in executeKernelconvertBRG2RGBA\");\n",
        "\n",
        "  auto t1 = std::chrono::high_resolution_clock::now();\n",
        "  for (int i=0; i<numIters; ++i) {\n",
        "    convertBRG2RGBA<<<grid, block, 0, stream>>>(d_dataVector[i%2], d_rgba, width, height);\n",
        "  }\n",
        "  CU_CHECK2(cudaDeviceSynchronize(), \"cudaDeviceSynchronize:\");\n",
        "  auto t2 = std::chrono::high_resolution_clock::now();\n",
        "  auto duration = std::chrono::duration_cast<std::chrono::microseconds>( t2 - t1 ).count();\n",
        "  std::cout << \"convertBRG2RGBA time for \" << numIters << \" iterations = \"<< duration << \"us\" << std::endl;\n",
        "\n",
        "  CU_CHECK2(cudaFree(d_secondData), \"cudaFree in executeKernelconvertBRG2RGBA\");\n",
        "}"
      ],
      "execution_count": 10,
      "outputs": [
        {
          "output_type": "execute_result",
          "data": {
            "application/vnd.google.colaboratory.intrinsic+json": {
              "type": "string"
            },
            "text/plain": [
              "'File written in /content/src/cuda_launcher.h'"
            ]
          },
          "metadata": {
            "tags": []
          },
          "execution_count": 10
        }
      ]
    },
    {
      "cell_type": "markdown",
      "metadata": {
        "id": "Nt2Ty-GmcSY_"
      },
      "source": [
        "### MAIN EXPERIMENT \n",
        "Try all the previous code, with the following main. If you did not finish all the previous code, this file will show some execution errors.\n",
        "\n",
        "The code is divided in two parts, one to define the parameters of the experiment and the other one is the main function with the experiment it self.\n",
        "\n",
        "The experiment is the code that creates a BRG image in CPU, allocates GPU memory, copies the BRG image to GPU memory, and executes a GPU kernel to convert the BRG image into a RGBA image. The output of the kernel is another GPU pointer, so after the kernel execution, we have to copy back the results."
      ]
    },
    {
      "cell_type": "code",
      "metadata": {
        "id": "FwcU52z8B--N",
        "colab": {
          "base_uri": "https://localhost:8080/",
          "height": 35
        },
        "outputId": "f9ea9dc7-19d0-4302-c4c4-dc8b441e482f"
      },
      "source": [
        "%%cuda --name experiment_settings.h\n",
        "#pragma once\n",
        "#define WIDTH 3840\n",
        "#define HEIGHT 2160\n",
        "#define EXPERIMENT_ITERATIONS 1"
      ],
      "execution_count": 11,
      "outputs": [
        {
          "output_type": "execute_result",
          "data": {
            "application/vnd.google.colaboratory.intrinsic+json": {
              "type": "string"
            },
            "text/plain": [
              "'File written in /content/src/experiment_settings.h'"
            ]
          },
          "metadata": {
            "tags": []
          },
          "execution_count": 11
        }
      ]
    },
    {
      "cell_type": "code",
      "metadata": {
        "id": "ZT9ep3h_ijOO",
        "colab": {
          "base_uri": "https://localhost:8080/",
          "height": 35
        },
        "outputId": "3bc11f3c-226a-4cb3-b28e-94e74cba9f91"
      },
      "source": [
        "%%cuda --name experiment.h\n",
        "#include <cuda.h>\n",
        "#include <chrono>\n",
        "#include \"/content/src/utils.h\"\n",
        "#include \"/content/src/memory_functions.h\"\n",
        "#include \"/content/src/check_results.h\"\n",
        "#include \"/content/src/cuda_launcher.h\"\n",
        "#include \"/content/src/experiment_settings.h\"\n",
        "\n",
        "void executeExperiment() {\n",
        "  uchar3 *h_brg, *d_brg;\n",
        "  uchar4 *h_rgba, *d_rgba;\n",
        "\n",
        "  int bar_widht = HEIGHT/3;\n",
        "\n",
        "  // Alloc and generate BRG bars.\n",
        "  h_brg = (uchar3*)malloc(sizeof(uchar3)*WIDTH*HEIGHT);\n",
        "  for (int i=0; i < WIDTH * HEIGHT; ++i) {\n",
        "    if (i < bar_widht) {\n",
        "      uchar3 temp = {255, 0, 0};\n",
        "      h_brg[i] = temp; \n",
        "    } else if (i < bar_widht*2) {\n",
        "      uchar3 temp = {0, 255, 0};\n",
        "      h_brg[i] = temp;\n",
        "    } else { \n",
        "      uchar3 temp = {0, 0, 255};\n",
        "      h_brg[i] = temp;\n",
        "    }\n",
        "  }\n",
        "\n",
        "  // Alloc RGBA pointers\n",
        "  h_rgba = (uchar4*)malloc(sizeof(uchar4)*WIDTH*HEIGHT);\n",
        "\n",
        "  // Alloc gpu pointers\n",
        "  allocGPUData(WIDTH, HEIGHT, &d_brg, &d_rgba);\n",
        "  \n",
        "  // Prepare and copy data to GPU\n",
        "  copyAndInitializeGPUData(WIDTH, HEIGHT, h_brg, d_brg, d_rgba);\n",
        "\n",
        "  // Execute the GPU kernel\n",
        "  executeKernelconvertBRG2RGBA(WIDTH, HEIGHT, d_brg, d_rgba, EXPERIMENT_ITERATIONS);\n",
        "\n",
        "  // Copy data back from GPU to CPU, without streams\n",
        "  CU_CHECK2(cudaMemcpy(h_rgba, d_rgba, sizeof(uchar4)*WIDTH*HEIGHT, cudaMemcpyDeviceToHost), \"Cuda memcpy Device to Host: \");\n",
        "    \n",
        "  // Check results\n",
        "  bool ok = checkResults(h_rgba, h_brg, WIDTH*HEIGHT);\n",
        "  if (ok) {\n",
        "      std::cout << \"Executed!! Results OK.\" << std::endl;\n",
        "  } else {\n",
        "      std::cout << \"Executed!! Results NOT OK.\" << std::endl;\n",
        "  }\n",
        "\n",
        "  // Free CPU pointers\n",
        "  free(h_rgba);\n",
        "  free(h_brg);\n",
        "\n",
        "  // Free cuda pointers\n",
        "  freeCUDAPointers(d_brg, d_rgba);\n",
        "}"
      ],
      "execution_count": 12,
      "outputs": [
        {
          "output_type": "execute_result",
          "data": {
            "application/vnd.google.colaboratory.intrinsic+json": {
              "type": "string"
            },
            "text/plain": [
              "'File written in /content/src/experiment.h'"
            ]
          },
          "metadata": {
            "tags": []
          },
          "execution_count": 12
        }
      ]
    },
    {
      "cell_type": "code",
      "metadata": {
        "id": "P5RA9zDI7Z0V",
        "colab": {
          "base_uri": "https://localhost:8080/"
        },
        "outputId": "3cac324f-a8e9-4e76-b78a-5a9a189ad589"
      },
      "source": [
        "%%cu\n",
        "#include \"/content/src/experiment.h\"\n",
        "int main() {\n",
        "\n",
        "  executeExperiment();\n",
        "\n",
        "  return 0;\n",
        "}"
      ],
      "execution_count": 13,
      "outputs": [
        {
          "output_type": "stream",
          "text": [
            "convertBRG2RGBA time for 1 iterations = 303us\n",
            "First position x=0 y=0 z=255 w=255\n",
            "Executed!! Results OK.\n",
            "\n"
          ],
          "name": "stdout"
        }
      ]
    },
    {
      "cell_type": "markdown",
      "metadata": {
        "id": "3GqpbCcVdK83"
      },
      "source": [
        "##Section 2:\n",
        "Implement a version of the kernel and launcher that uses a one dimensional cuda GRID. That is, there is no more x and y, only x.\n",
        "\n",
        "Modify the code below, click play, and then click play in the Main Experiment block, in Section 1.\n",
        "\n",
        "Try different values of BLOCK_SIZE.\n",
        "\n",
        "Check if there is any execution time improvement, compared to Section 1.\n"
      ]
    },
    {
      "cell_type": "code",
      "metadata": {
        "id": "gLPY7trNd1SG",
        "colab": {
          "base_uri": "https://localhost:8080/",
          "height": 35
        },
        "outputId": "72b08f6e-b0cf-430c-a83b-6df200ff6510"
      },
      "source": [
        "%%cuda --name cuda_launcher.h\n",
        "\n",
        "#define BLOCK_SIZE 256\n",
        "\n",
        "// UNIDIMENSIONAL KERNEL\n",
        "__global__ void convertBRG2RGBA(uchar3 *brg, uchar4* rgba, int width, int height) {\n",
        "  int x = threadIdx.x + (blockIdx.x * blockDim.x);//Use the thread id and block id's to compute x \n",
        "  \n",
        "\t// Protection to avoid segmentation fault\n",
        "\tif (x < width * height) {\t\n",
        "\t    rgba[x].x = brg[x].y;\n",
        "\t    rgba[x].y = brg[x].z;\n",
        "\t    rgba[x].z = brg[x].x;\n",
        "\t    rgba[x].w = 255;\n",
        "\t}\n",
        "}\n",
        "\n",
        "void executeKernelconvertBRG2RGBA(int width, int height, uchar3* d_brg, uchar4* d_rgba, int numIters, cudaStream_t stream=0) {\n",
        "  // Execute the GPU kernel\n",
        "  dim3 block(BLOCK_SIZE, 1, 1);\n",
        "  dim3 grid(ceil(width*height/(float)block.x), 1, 1);\n",
        "\n",
        "  // A trick to avoid some undesired optimizations, that will not happen in real applications\n",
        "  uchar3* d_dataVector[2];\n",
        "  uchar3* d_secondData;\n",
        "  CU_CHECK2(cudaMalloc(&d_secondData, width * height * sizeof(uchar3)), \"cudaMalloc in executeKernelconvertBRG2RGBA\");\n",
        "\n",
        "  d_dataVector[0] = d_brg;\n",
        "  d_dataVector[1] = d_secondData;\n",
        "\n",
        "  CU_CHECK2(cudaMemcpyAsync(d_secondData, d_brg, width * height * sizeof(uchar3), cudaMemcpyDeviceToDevice, stream), \"cudaMemcpyAsync in executeKernelconvertBRG2RGBA\");\n",
        "\n",
        "  auto t1 = std::chrono::high_resolution_clock::now();\n",
        "  for (int i=0; i<numIters; ++i) {\n",
        "    convertBRG2RGBA<<<grid, block, 0, stream>>>(d_dataVector[i%2], d_rgba, width, height);\n",
        "  }\n",
        "  CU_CHECK2(cudaDeviceSynchronize(), \"cudaDeviceSynchronize:\");\n",
        "  auto t2 = std::chrono::high_resolution_clock::now();\n",
        "  auto duration = std::chrono::duration_cast<std::chrono::microseconds>( t2 - t1 ).count();\n",
        "  std::cout << \"convertBRG2RGBA time for \" << numIters << \" iterations = \"<< duration << \"us\" << std::endl;\n",
        "}"
      ],
      "execution_count": 14,
      "outputs": [
        {
          "output_type": "execute_result",
          "data": {
            "application/vnd.google.colaboratory.intrinsic+json": {
              "type": "string"
            },
            "text/plain": [
              "'File written in /content/src/cuda_launcher.h'"
            ]
          },
          "metadata": {
            "tags": []
          },
          "execution_count": 14
        }
      ]
    },
    {
      "cell_type": "code",
      "metadata": {
        "id": "ozsLq2rt__xl",
        "colab": {
          "base_uri": "https://localhost:8080/"
        },
        "outputId": "50af0854-1a1d-46ba-edcf-762b30d45b63"
      },
      "source": [
        "%%cu\n",
        "#include \"/content/src/experiment.h\"\n",
        "int main() {\n",
        "\n",
        "  executeExperiment();\n",
        "\n",
        "  return 0;\n",
        "}"
      ],
      "execution_count": 15,
      "outputs": [
        {
          "output_type": "stream",
          "text": [
            "convertBRG2RGBA time for 1 iterations = 277us\n",
            "First position x=0 y=0 z=255 w=255\n",
            "Executed!! Results OK.\n",
            "\n"
          ],
          "name": "stdout"
        }
      ]
    },
    {
      "cell_type": "markdown",
      "metadata": {
        "id": "ExMCHf_RD3Wd"
      },
      "source": [
        "Change the experiment settings, by executing more iterations and compare the unidimensional kernel with the bidimensional kernel.\n",
        "\n",
        "Comment the results in the report."
      ]
    },
    {
      "cell_type": "markdown",
      "metadata": {
        "id": "OTSCycl9Tkvn"
      },
      "source": [
        "### Section 2 comments:\n",
        "\n",
        "\n",
        "|             | ONE-DIMENSION | TWO-DIMENSION |\n",
        "|-------------|---------------|---------------|\n",
        "| 100_ITER    | 39869us       | 48689us       |\n",
        "| 500_ITER    | 198417us      | 242573us      |\n",
        "| 1000_ITER   | 369619us      | 409701us      |\n",
        "| 5000_ITER   | 1810931us     | 1856956us     |\n",
        "| 10000_ITER  | 3596504us     | 3699985us     |\n",
        "| 100000_ITER | 35726420us    | 36432094us    |\n",
        "\n",
        "\n",
        "-----------------------------------------------\n",
        "\n",
        "-Resizing image\n",
        "\n",
        "|             | ONE-DIMENSION | TWO-DIMENSION |\n",
        "|-------------|---------------|---------------|\n",
        "| ORIGINAL    | 39869us       | 48689us       |\n",
        "| + 10%       | 48167us       | 56904us       |\n",
        "| + 20%       | 57257us       | 69865us       |\n",
        "| - 10%       | 32363us       | 39336us       |\n",
        "| - 20%       | 25676us       | 31188us       |\n"
      ]
    },
    {
      "cell_type": "code",
      "metadata": {
        "id": "02hd2qlUEOsg",
        "colab": {
          "base_uri": "https://localhost:8080/",
          "height": 35
        },
        "outputId": "13489cb8-3088-49bd-b348-0262dc95aa9c"
      },
      "source": [
        "%%cuda --name experiment_settings.h\n",
        "#pragma once\n",
        "#define WIDTH 3840\n",
        "#define HEIGHT 2160\n",
        "#define EXPERIMENT_ITERATIONS 100 //try different values"
      ],
      "execution_count": 16,
      "outputs": [
        {
          "output_type": "execute_result",
          "data": {
            "application/vnd.google.colaboratory.intrinsic+json": {
              "type": "string"
            },
            "text/plain": [
              "'File written in /content/src/experiment_settings.h'"
            ]
          },
          "metadata": {
            "tags": []
          },
          "execution_count": 16
        }
      ]
    },
    {
      "cell_type": "markdown",
      "metadata": {
        "id": "E3gBy530ektk"
      },
      "source": [
        "## Section 3:\n",
        "\n",
        "Starting from Section 2, (use the best BLOCK_SIZE you found) try to optimize the memory accesses in some way, without using shared memory.\n",
        "\n",
        "Comment in the report which memory access problems you observe. Are the memory accesses aligned, and therfore coalesced?\n",
        "\n",
        "Remember that opposite to what the CPU compilers do, the nvcc compiler does not optimize the memory accesses in structs\n",
        "\n",
        "Remember also that GPU memory is organized in blocks of 4 bytes, and any array based on data elements that are not multiple of 2, will not be alligned. To be coalesced (specially in old architectures), it also has to be multiple of 4."
      ]
    },
    {
      "cell_type": "code",
      "metadata": {
        "id": "RmP4PDZ-e4lG",
        "colab": {
          "base_uri": "https://localhost:8080/",
          "height": 35
        },
        "outputId": "2ddb2d40-a148-4ddc-fd04-37e5f63c8fc1"
      },
      "source": [
        "%%cuda --name cuda_launcher.h\n",
        "\n",
        "#define BLOCK_SIZE 256\n",
        "\n",
        "// UNIDIMENSIONAL KERNEL BETTER MEMORY ACCESS\n",
        "__global__ void convertBRG2RGBA(uchar3 *brg, uchar4* rgba, int width, int height) {\n",
        "  int x = threadIdx.x + (blockIdx.x * blockDim.x);//Use the same code as in section 2 in this line\n",
        "  \n",
        "\t// Protection to avoid segmentation fault\n",
        "\tif (x < width * height) {\t\n",
        "      uchar3 tmp_3 = brg[x];\n",
        "\n",
        "      uchar4 tmp_4;\n",
        "      \n",
        "      tmp_4.x = tmp_3.y;\n",
        "      tmp_4.y = tmp_3.z;\n",
        "      tmp_4.z = tmp_3.x;\n",
        "      tmp_4.w = 255;\n",
        "      \n",
        "      rgba[x] = tmp_4;\n",
        "\t}\n",
        "}\n",
        "\n",
        "void executeKernelconvertBRG2RGBA(int width, int height, uchar3* d_brg, uchar4* d_rgba, int numIters, cudaStream_t stream=0) {\n",
        "  // Execute the GPU kernel\n",
        "  dim3 block(BLOCK_SIZE, 1, 1);\n",
        "  dim3 grid(ceil(width*height/(float)block.x), 1, 1);\n",
        "\n",
        "  // A trick to avoid some undesired optimizations, that will not happen in real applications\n",
        "  uchar3* d_dataVector[2];\n",
        "  uchar3* d_secondData;\n",
        "  CU_CHECK2(cudaMalloc(&d_secondData, width * height * sizeof(uchar3)), \"cudaMalloc in executeKernelconvertBRG2RGBA\");\n",
        "\n",
        "  d_dataVector[0] = d_brg;\n",
        "  d_dataVector[1] = d_secondData;\n",
        "\n",
        "  CU_CHECK2(cudaMemcpyAsync(d_secondData, d_brg, width * height * sizeof(uchar3), cudaMemcpyDeviceToDevice, stream), \"cudaMemcpyAsync in executeKernelconvertBRG2RGBA\");\n",
        "\n",
        "  auto t1 = std::chrono::high_resolution_clock::now();\n",
        "  for (int i=0; i<numIters; ++i) {\n",
        "    convertBRG2RGBA<<<grid, block, 0, stream>>>(d_dataVector[i%2], d_rgba, width, height);\n",
        "  }\n",
        "  CU_CHECK2(cudaDeviceSynchronize(), \"cudaDeviceSynchronize:\");\n",
        "  auto t2 = std::chrono::high_resolution_clock::now();\n",
        "  auto duration = std::chrono::duration_cast<std::chrono::microseconds>( t2 - t1 ).count();\n",
        "  std::cout << \"convertBRG2RGBA time for \" << numIters << \" iterations = \"<< duration << \"us\" << std::endl;\n",
        "}"
      ],
      "execution_count": 17,
      "outputs": [
        {
          "output_type": "execute_result",
          "data": {
            "application/vnd.google.colaboratory.intrinsic+json": {
              "type": "string"
            },
            "text/plain": [
              "'File written in /content/src/cuda_launcher.h'"
            ]
          },
          "metadata": {
            "tags": []
          },
          "execution_count": 17
        }
      ]
    },
    {
      "cell_type": "code",
      "metadata": {
        "id": "dMDGsQjPAkIv",
        "colab": {
          "base_uri": "https://localhost:8080/"
        },
        "outputId": "6dbbb99f-5b10-400a-f3fc-fab1c0b17105"
      },
      "source": [
        "%%cu\n",
        "#include \"/content/src/experiment.h\"\n",
        "int main() {\n",
        "\n",
        "  executeExperiment();\n",
        "\n",
        "  return 0;\n",
        "}"
      ],
      "execution_count": 19,
      "outputs": [
        {
          "output_type": "stream",
          "text": [
            "convertBRG2RGBA time for 100 iterations = 14364us\n",
            "First position x=0 y=0 z=255 w=255\n",
            "Executed!! Results OK.\n",
            "\n"
          ],
          "name": "stdout"
        }
      ]
    },
    {
      "cell_type": "markdown",
      "metadata": {
        "id": "EPECp0T6IU0Z"
      },
      "source": [
        "##Section 4:\n",
        "Now optimize the GPU memory accesses so that each thread always reads at least one element of 4 bytes. Use shared memory to that end.\n",
        "\n",
        "Look at the PDF Lab2CUDA in the campus, an read the last two pages. There you have a graphical explanation of the kernel issues. For this section you only need to understand the first figure.\n",
        "\n",
        "About shared memory: we will refresh some concepts.\n",
        "\n",
        "Shared memory, is a kind of memory that is visible only by the cuda threads of a thread block. Cuda threads from different thread blocks can not see the shared memory of other threadblocks.\n",
        "\n",
        "Shared memory is a limited resource. Depending on the GPU model, you may have from 32KB to 64KB of shared memory. Additionally, this memory is not used only by one threadblock. It is partitioned in as many independent blocks as thread blocks can execute in a single Streaming Multiprocessor (check the documentation if you don't know what a SM is). \n",
        "\n",
        "So when you are defining the amount of shared memory you want, you are defining the amount of memory, every thread block will have available.\n",
        "\n",
        "If you reserve 64KB of shared memory, in a GPU that has this capacity, only one thread block will execute on each SM, which is super slow. Each SM can concurrently execute from 8 to 32 thread blocks. For the best performance, you usually want the greatest amount of thread blocks active on each SM.\n",
        "\n",
        "Therefore, you what to use the least shared memory possible, and only use it when it has clear benefits.\n"
      ]
    },
    {
      "cell_type": "code",
      "metadata": {
        "id": "MKRs22QeIvwj",
        "colab": {
          "base_uri": "https://localhost:8080/",
          "height": 35
        },
        "outputId": "65ba0111-6395-4468-b394-d3a044814e5a"
      },
      "source": [
        "%%cuda --name cuda_launcher.h\n",
        "#include \"/content/src/experiment_settings.h\"\n",
        "\n",
        "// Try different vaues of BLOCK_SIZE\n",
        "#define BLOCK_SIZE 256\n",
        "\n",
        "// Number of 4 byte elements that we can make out of BLOCK_SIZE elements of 3 bytes\n",
        "#define N_ELEMS_3_4_TBLOCK (BLOCK_SIZE * 3)/4\n",
        "#define N_ELEMS_3_4_IMAGE (WIDTH*HEIGHT * 3)/4\n",
        "\n",
        "// UNIDIMENSIONAL KERNEL SHARED MEMORY\n",
        "__global__ void convertBRG2RGBA(uchar3 *brg, uchar4* rgba, int width, int height) {\n",
        "  int position = threadIdx.x + (blockIdx.x * N_ELEMS_3_4_TBLOCK); // use N_ELEMS_3_4_TBLOCK to compute the position of each thread when we read brg as if it had elements of 4 bytes\n",
        "  __shared__ uchar4 bgrShared[N_ELEMS_3_4_TBLOCK];\n",
        "  \n",
        "  if(threadIdx.x < N_ELEMS_3_4_TBLOCK && position < N_ELEMS_3_4_IMAGE) {\n",
        "      uchar4* temp = reinterpret_cast<uchar4*>(brg);\n",
        "      bgrShared[threadIdx.x] = temp[position];\n",
        "  }\n",
        "\n",
        "  __syncthreads();\n",
        "  \n",
        "  position = threadIdx.x + (blockIdx.x * blockDim.x);// recompute position without N_ELEMS_3_4_TBLOCK to write the results\n",
        "\t// Protection to avoid segmentation fault\n",
        "\tif (position < width*height) {\t\n",
        "        uchar3 local = reinterpret_cast<uchar3*>(bgrShared)[threadIdx.x];\n",
        "        rgba[position] = make_uchar4(local.y,local.z,local.x,255);\n",
        "\t}\n",
        "}\n",
        "\n",
        "void executeKernelconvertBRG2RGBA(int width, int height, uchar3* d_brg, uchar4* d_rgba, int numIters, cudaStream_t stream=0) {\n",
        "  // Execute the GPU kernel\n",
        "  dim3 block(BLOCK_SIZE, 1, 1);\n",
        "  dim3 grid(ceil(width*height/(float)block.x), 1, 1);\n",
        "\n",
        "  // A trick to avoid some undesired optimizations, that will not happen in real applications\n",
        "  uchar3* d_dataVector[2];\n",
        "  uchar3* d_secondData;\n",
        "  CU_CHECK2(cudaMalloc(&d_secondData, width * height * sizeof(uchar3)), \"cudaMalloc in executeKernelconvertBRG2RGBA\");\n",
        "\n",
        "  d_dataVector[0] = d_brg;\n",
        "  d_dataVector[1] = d_secondData;\n",
        "\n",
        "  CU_CHECK2(cudaMemcpyAsync(d_secondData, d_brg, width * height * sizeof(uchar3), cudaMemcpyDeviceToDevice, stream), \"cudaMemcpyAsync in executeKernelconvertBRG2RGBA\");\n",
        "\n",
        "  auto t1 = std::chrono::high_resolution_clock::now();\n",
        "  for (int i=0; i<numIters; ++i) {\n",
        "    convertBRG2RGBA<<<grid, block, 0, stream>>>(d_dataVector[i%2], d_rgba, width, height);\n",
        "  }\n",
        "  CU_CHECK2(cudaDeviceSynchronize(), \"cudaDeviceSynchronize:\");\n",
        "  auto t2 = std::chrono::high_resolution_clock::now();\n",
        "  auto duration = std::chrono::duration_cast<std::chrono::microseconds>( t2 - t1 ).count();\n",
        "  std::cout << \"convertBRG2RGBA time for \" << numIters << \" iterations = \"<< duration << \"us\" << std::endl;\n",
        "}"
      ],
      "execution_count": 20,
      "outputs": [
        {
          "output_type": "execute_result",
          "data": {
            "application/vnd.google.colaboratory.intrinsic+json": {
              "type": "string"
            },
            "text/plain": [
              "'File written in /content/src/cuda_launcher.h'"
            ]
          },
          "metadata": {
            "tags": []
          },
          "execution_count": 20
        }
      ]
    },
    {
      "cell_type": "code",
      "metadata": {
        "id": "4E_ErYqLAtVU",
        "colab": {
          "base_uri": "https://localhost:8080/"
        },
        "outputId": "6f89b004-88b0-4748-cc1c-59e9cfc2315b"
      },
      "source": [
        "%%cu\n",
        "#include \"/content/src/experiment.h\"\n",
        "int main() {\n",
        "\n",
        "  executeExperiment();\n",
        "\n",
        "  return 0;\n",
        "}"
      ],
      "execution_count": 21,
      "outputs": [
        {
          "output_type": "stream",
          "text": [
            "convertBRG2RGBA time for 100 iterations = 13297us\n",
            "First position x=0 y=0 z=255 w=255\n",
            "Executed!! Results OK.\n",
            "\n"
          ],
          "name": "stdout"
        }
      ]
    },
    {
      "cell_type": "markdown",
      "metadata": {
        "id": "sGPcLMKz6a0d"
      },
      "source": [
        "##Section 5:\n",
        "\n",
        "Now, following the explanation in the pdf document provided along with this colab, try to implement the described algorithm. Take into account that the piece of code that reads from temp variables and writes in pix_write, requires some changes."
      ]
    },
    {
      "cell_type": "code",
      "metadata": {
        "id": "2DvT4yBO6ck2",
        "colab": {
          "base_uri": "https://localhost:8080/",
          "height": 35
        },
        "outputId": "a87d8bd2-5c0f-44a0-d254-b610aeb6af34"
      },
      "source": [
        "%%cuda --name cuda_launcher.h\n",
        "#include \"/content/src/experiment_settings.h\"\n",
        "\n",
        "// Try different vaues of BLOCK_SIZE\n",
        "#define BLOCK_SIZE 256\n",
        "\n",
        "// Number of 4 byte elements that we can make out of BLOCK_SIZE elements of 3 bytes\n",
        "#define N_ELEMS_3_4_TBLOCK (BLOCK_SIZE * 3)/4\n",
        "#define N_ELEMS_3_4_IMAGE (WIDTH*HEIGHT * 3)/4\n",
        "#define N_ELEMS_3_4_TBLOCK_3 N_ELEMS_3_4_TBLOCK/3\n",
        "\n",
        "// UNIDIMENSIONAL KERNEL SHARED MEMORY\n",
        "__global__ void convertBRG2RGBA(uchar3 *brg, uchar4* rgba, int width, int height) {\n",
        "  int position = threadIdx.x + (blockIdx.x * N_ELEMS_3_4_TBLOCK); // use N_ELEMS_3_4_TBLOCK to compute the position of each thread when we read brg as if it had elements of 4 bytes\n",
        "  __shared__ uchar4 bgrShared[N_ELEMS_3_4_TBLOCK];\n",
        "  \n",
        "  if(threadIdx.x < N_ELEMS_3_4_TBLOCK && position < N_ELEMS_3_4_IMAGE) {\n",
        "      uchar4* temp = reinterpret_cast<uchar4*>(brg);\n",
        "      bgrShared[threadIdx.x] = temp[position];\n",
        "  }\n",
        "\n",
        "  __syncthreads();\n",
        "  \n",
        "  // Vector de memoria compartida\n",
        "  __shared__ uchar4 pix_write[1024];\n",
        "\n",
        "\t// Cada 3 threads escribim els bytes a memoria compartida\n",
        "\tif (threadIdx.x < N_ELEMS_3_4_TBLOCK_3) {\n",
        "      \n",
        "      // Guardem els bloc en registres temporals\n",
        "      uchar4 tmp1 = bgrShared[3 * threadIdx.x];\n",
        "      uchar4 tmp2 = bgrShared[3 * threadIdx.x + 1];\n",
        "      uchar4 tmp3 = bgrShared[3 * threadIdx.x + 2];\n",
        "\n",
        "      int pos = threadIdx.x + (blockIdx.x * N_ELEMS_3_4_TBLOCK_3);\n",
        "\n",
        "      // Assignem les modificaions al vector de memoria compartida\n",
        "      pix_write[threadIdx.x * 4]     = make_uchar4(tmp1.y, tmp1.z, tmp1.x, 255);\n",
        "      pix_write[threadIdx.x * 4 + 1] = make_uchar4(tmp2.x, tmp2.y, tmp1.w, 255);\n",
        "      pix_write[threadIdx.x * 4 + 2] = make_uchar4(tmp2.w, tmp3.x, tmp2.z, 255);\n",
        "      pix_write[threadIdx.x * 4 + 3] = make_uchar4(tmp3.z, tmp3.w, tmp3.y, 255);\n",
        "\n",
        "      // Apliquem la modificacio\n",
        "      ((uint4*)rgba)[pos] = ((uint4*)pix_write)[threadIdx.x];\n",
        "\t}\n",
        "}\n",
        "\n",
        "void executeKernelconvertBRG2RGBA(int width, int height, uchar3* d_brg, uchar4* d_rgba, int numIters, cudaStream_t stream=0) {\n",
        "  // Execute the GPU kernel\n",
        "  dim3 block(BLOCK_SIZE, 1, 1);\n",
        "  dim3 grid(ceil(width*height/(float)block.x), 1, 1);\n",
        "\n",
        "  // A trick to avoid some undesired optimizations, that will not happen in real applications\n",
        "  uchar3* d_dataVector[2];\n",
        "  uchar3* d_secondData;\n",
        "  CU_CHECK2(cudaMalloc(&d_secondData, width * height * sizeof(uchar3)), \"cudaMalloc in executeKernelconvertBRG2RGBA\");\n",
        "\n",
        "  d_dataVector[0] = d_brg;\n",
        "  d_dataVector[1] = d_secondData;\n",
        "\n",
        "  CU_CHECK2(cudaMemcpyAsync(d_secondData, d_brg, width * height * sizeof(uchar3), cudaMemcpyDeviceToDevice, stream), \"cudaMemcpyAsync in executeKernelconvertBRG2RGBA\");\n",
        "\n",
        "  auto t1 = std::chrono::high_resolution_clock::now();\n",
        "  for (int i=0; i<numIters; ++i) {\n",
        "    convertBRG2RGBA<<<grid, block, 0, stream>>>(d_dataVector[i%2], d_rgba, width, height);\n",
        "  }\n",
        "  CU_CHECK2(cudaDeviceSynchronize(), \"cudaDeviceSynchronize:\");\n",
        "  auto t2 = std::chrono::high_resolution_clock::now();\n",
        "  auto duration = std::chrono::duration_cast<std::chrono::microseconds>( t2 - t1 ).count();\n",
        "  std::cout << \"convertBRG2RGBA time for \" << numIters << \" iterations = \"<< duration << \"us\" << std::endl;\n",
        "}"
      ],
      "execution_count": 22,
      "outputs": [
        {
          "output_type": "execute_result",
          "data": {
            "application/vnd.google.colaboratory.intrinsic+json": {
              "type": "string"
            },
            "text/plain": [
              "'File written in /content/src/cuda_launcher.h'"
            ]
          },
          "metadata": {
            "tags": []
          },
          "execution_count": 22
        }
      ]
    },
    {
      "cell_type": "code",
      "metadata": {
        "colab": {
          "base_uri": "https://localhost:8080/"
        },
        "id": "DnQK-XxLbTHD",
        "outputId": "f34e39a9-6406-4585-930d-e7bbe454967a"
      },
      "source": [
        "%%cu\n",
        "#include \"/content/src/experiment.h\"\n",
        "int main() {\n",
        "\n",
        "  executeExperiment();\n",
        "\n",
        "  return 0;\n",
        "}"
      ],
      "execution_count": 23,
      "outputs": [
        {
          "output_type": "stream",
          "text": [
            "convertBRG2RGBA time for 100 iterations = 13343us\n",
            "First position x=0 y=0 z=255 w=255\n",
            "Executed!! Results OK.\n",
            "\n"
          ],
          "name": "stdout"
        }
      ]
    },
    {
      "cell_type": "markdown",
      "metadata": {
        "id": "MazFSZvFO9lT"
      },
      "source": [
        "##Section 6:\n",
        "\n",
        "Change all the host code necessary, to use cuda streams. Here you have an example."
      ]
    },
    {
      "cell_type": "code",
      "metadata": {
        "id": "3EvgoMT5PVYn",
        "colab": {
          "base_uri": "https://localhost:8080/"
        },
        "outputId": "85345015-9958-40fd-c8f4-ca436331446a"
      },
      "source": [
        "%%cu\n",
        "#include <iostream>\n",
        "\n",
        "__global__ void square(int* d_input, int* d_output) {\n",
        "    int x = threadIdx.x + blockIdx.x * blockDim.x;\n",
        "\n",
        "    int val = d_input[x];\n",
        "    // We exploit the temporal locality of the value stored in d_output[x]\n",
        "    d_output[x] = val*val;\n",
        "}\n",
        "\n",
        "static const size_t dataSize = sizeof(int)*1024;\n",
        "\n",
        "int main() {\n",
        "    \n",
        "    int *h_input, *h_output;\n",
        "    h_input = (int*)malloc(dataSize);\n",
        "    h_output = (int*)malloc(dataSize);\n",
        "\n",
        "    for (int i=0; i<1024; ++i) h_input[i]=i;\n",
        "\n",
        "    int *d_input, *d_output;\n",
        "    cudaMalloc(&d_input, dataSize);\n",
        "    cudaMalloc(&d_output, dataSize);\n",
        "\n",
        "    cudaStream_t stream;\n",
        "    cudaStreamCreate(&stream);\n",
        "\n",
        "    dim3 block(512);\n",
        "    dim3 grid(2);\n",
        "\n",
        "    // The CPU thread does not wait that any of the following actions finish\n",
        "    // It only asks the GPU to do the copies and the kernel and continues\n",
        "    cudaMemcpyAsync(d_input, h_input, dataSize, cudaMemcpyHostToDevice, stream);\n",
        "    square<<<grid, block, 0, stream>>>(d_input, d_output);\n",
        "    cudaMemcpyAsync(h_output, d_output, dataSize, cudaMemcpyDeviceToHost, stream);\n",
        "\n",
        "    // Here, we wait for all the orders enqueued in stream, to finish.\n",
        "    cudaStreamSynchronize(stream);\n",
        "\n",
        "    bool correct = true;\n",
        "    for (int i=0; i<1024; ++i) correct &= h_output[i] == i*i;\n",
        "\n",
        "    std::cout << \"Finished and results are \" << (correct ? \"correct.\" : \"not correct.\") << std::endl;\n",
        "\n",
        "    cudaStreamDestroy(stream);\n",
        "    cudaFree(d_input);\n",
        "    cudaFree(d_output);\n",
        "    free(h_input);\n",
        "    free(h_output);\n",
        "\n",
        "    return 0;\n",
        "}"
      ],
      "execution_count": 24,
      "outputs": [
        {
          "output_type": "stream",
          "text": [
            "Finished and results are correct.\n",
            "\n"
          ],
          "name": "stdout"
        }
      ]
    },
    {
      "cell_type": "markdown",
      "metadata": {
        "id": "P4VK6ylPWaEY"
      },
      "source": [
        "Modify this code, to use streams"
      ]
    },
    {
      "cell_type": "code",
      "metadata": {
        "id": "kAn_ggnrbAWq",
        "colab": {
          "base_uri": "https://localhost:8080/",
          "height": 35
        },
        "outputId": "0678ce11-b790-4ba5-e5f3-26d2f91fca98"
      },
      "source": [
        "%%cuda --name cuda_launcher.h\n",
        "#include \"/content/src/experiment_settings.h\"\n",
        "\n",
        "// Try different vaues of BLOCK_SIZE\n",
        "#define BLOCK_SIZE 256\n",
        "\n",
        "// Number of 4 byte elements that we can make out of BLOCK_SIZE elements of 3 bytes\n",
        "#define N_ELEMS_3_4_TBLOCK (BLOCK_SIZE * 3)/4\n",
        "#define N_ELEMS_3_4_IMAGE (WIDTH*HEIGHT * 3)/4\n",
        "\n",
        "// UNIDIMENSIONAL KERNEL SHARED MEMORY\n",
        "__global__ void convertBRG2RGBA(uchar3 *brg, uchar4* rgba, int width, int height) {\n",
        "  int position = threadIdx.x + (blockIdx.x * N_ELEMS_3_4_TBLOCK);// use N_ELEMS_3_4_TBLOCK to compute the position of each thread when we read brg as if it had elements of 4 bytes\n",
        "  __shared__ uchar4 bgrShared[N_ELEMS_3_4_TBLOCK];\n",
        "  \n",
        "  if(threadIdx.x < N_ELEMS_3_4_TBLOCK && position < N_ELEMS_3_4_IMAGE) {\n",
        "      uchar4* temp = reinterpret_cast<uchar4*>(brg);\n",
        "      bgrShared[threadIdx.x] = temp[position];\n",
        "  }\n",
        "\n",
        "  __syncthreads();\n",
        "  \n",
        "  position = threadIdx.x + (blockIdx.x * blockDim.x);// recompute position without N_ELEMS_3_4_TBLOCK to write the results\n",
        "\t// Protection to avoid segmentation fault\n",
        "\tif (position < width*height) {\t\n",
        "        uchar3 local = reinterpret_cast<uchar3*>(bgrShared)[threadIdx.x];\n",
        "        rgba[position] = make_uchar4(local.y,local.z,local.x,255);\n",
        "\t}\n",
        "}\n",
        "\n",
        "void executeKernelconvertBRG2RGBA(int width, int height, uchar3* d_brg, uchar4* d_rgba, int numIters, cudaStream_t stream=0) {\n",
        "  // Execute the GPU kernel\n",
        "  dim3 block(BLOCK_SIZE, 1, 1);\n",
        "  dim3 grid(ceil(width*height/(float)block.x), 1, 1);\n",
        "\n",
        "  // A trick to avoid some undesired optimizations, that will not happen in real applications\n",
        "  uchar3* d_dataVector[2];\n",
        "  uchar3* d_secondData;\n",
        "  CU_CHECK2(cudaMalloc(&d_secondData, width * height * sizeof(uchar3)), \"cudaMalloc in executeKernelconvertBRG2RGBA\");\n",
        "\n",
        "  d_dataVector[0] = d_brg;\n",
        "  d_dataVector[1] = d_secondData;\n",
        "\n",
        "  CU_CHECK2(cudaMemcpyAsync(d_secondData, d_brg, width * height * sizeof(uchar3), cudaMemcpyDeviceToDevice, stream), \"cudaMemcpyAsync in executeKernelconvertBRG2RGBA\");\n",
        "\n",
        "  auto t1 = std::chrono::high_resolution_clock::now();\n",
        "  for (int i=0; i<numIters; ++i) {\n",
        "    convertBRG2RGBA<<<grid, block, 0, stream>>>(d_dataVector[i%2], d_rgba, width, height);\n",
        "  }\n",
        "  CU_CHECK2(cudaDeviceSynchronize(), \"cudaDeviceSynchronize:\");\n",
        "  auto t2 = std::chrono::high_resolution_clock::now();\n",
        "  auto duration = std::chrono::duration_cast<std::chrono::microseconds>( t2 - t1 ).count();\n",
        "  std::cout << \"convertBRG2RGBA time for \" << numIters << \" iterations = \"<< duration << \"us\" << std::endl;\n",
        "}"
      ],
      "execution_count": 25,
      "outputs": [
        {
          "output_type": "execute_result",
          "data": {
            "application/vnd.google.colaboratory.intrinsic+json": {
              "type": "string"
            },
            "text/plain": [
              "'File written in /content/src/cuda_launcher.h'"
            ]
          },
          "metadata": {
            "tags": []
          },
          "execution_count": 25
        }
      ]
    },
    {
      "cell_type": "code",
      "metadata": {
        "id": "yz3kVFkrWOlB",
        "colab": {
          "base_uri": "https://localhost:8080/",
          "height": 35
        },
        "outputId": "cacedb46-5505-45e2-962c-de180a356e92"
      },
      "source": [
        "%%cuda --name memory_functions.h\n",
        "void allocGPUData(int width, int height, uchar3** d_brg, uchar4** d_rgba){\n",
        "  // Alloc gpu pointers\n",
        "  CU_CHECK2(cudaMalloc(d_brg, sizeof(uchar3)*width*height), \"Alloc d_brg:\");\n",
        "  // Can you finish this one? Replace cudaSucces with the proper cuda API call\n",
        "  CU_CHECK2(cudaMalloc(d_rgba, sizeof(uchar4)*width*height), \"Alloc d_rgba:\");\n",
        "}\n",
        "void copyAndInitializeGPUData(int width, int height, uchar3* h_brg, uchar3* d_brg, uchar4* d_rgba, cudaStream_t stream=0) {\n",
        "  // Copy data to GPU\n",
        "  CU_CHECK2(cudaMemcpyAsync(d_brg, h_brg, width*height*sizeof(uchar3), cudaMemcpyHostToDevice, stream), \"Copy h_brg to d_brg:\");\n",
        "  // Init output buffer to 0\n",
        "  CU_CHECK2(cudaMemsetAsync(d_rgba, 0, width*height*sizeof(uchar4), stream), \"Memset d_rgba:\");\n",
        "}\n",
        "void freeCUDAPointers(uchar3* d_brg, uchar4* d_rgba) {\n",
        "  // Free cuda pointers. Replace the cudaErrorInvalidValue flag\n",
        "  // with the proper cuda API call, to free the GPU pointers\n",
        "  CU_CHECK2(cudaFree(d_brg), \"Cuda free d_bgr:\");\n",
        "  CU_CHECK2(cudaFree(d_rgba), \"Cuda free d_rgba:\");\n",
        "  // Clean GPU device\n",
        "  CU_CHECK2(cudaDeviceReset(), \"Cuda device reset:\");\n",
        "}"
      ],
      "execution_count": 26,
      "outputs": [
        {
          "output_type": "execute_result",
          "data": {
            "application/vnd.google.colaboratory.intrinsic+json": {
              "type": "string"
            },
            "text/plain": [
              "'File written in /content/src/memory_functions.h'"
            ]
          },
          "metadata": {
            "tags": []
          },
          "execution_count": 26
        }
      ]
    },
    {
      "cell_type": "markdown",
      "metadata": {
        "id": "ymPFWGqkWew-"
      },
      "source": [
        "And also modify this code, so that mem copies from CPU to GPU and from GPU to CPU use an stream, and are not blocking.\n",
        "\n",
        "Additionally, add a chrono between the first memcpy (included) and the cudaStreamSynchronize. This is the time you will have to compare.\n",
        "\n",
        "Follow the indications in the code."
      ]
    },
    {
      "cell_type": "code",
      "metadata": {
        "id": "ih1ADZpjWeFk",
        "colab": {
          "base_uri": "https://localhost:8080/",
          "height": 35
        },
        "outputId": "1a91163b-577a-4738-95d1-1ba551429408"
      },
      "source": [
        "%%cuda --name experiment.h\n",
        "#include <cuda.h>\n",
        "#include <chrono>\n",
        "#include \"/content/src/utils.h\"\n",
        "#include \"/content/src/memory_functions.h\"\n",
        "#include \"/content/src/check_results.h\"\n",
        "#include \"/content/src/cuda_launcher.h\"\n",
        "#include \"/content/src/experiment_settings.h\"\n",
        "\n",
        "void executeExperiment() {\n",
        "  uchar3 *h_brg, *d_brg;\n",
        "  uchar4 *h_rgba, *d_rgba;\n",
        "\n",
        "  int bar_widht = HEIGHT/3;\n",
        "\n",
        "  // Alloc and generate BRG bars.\n",
        "  h_brg = (uchar3*)malloc(sizeof(uchar3)*WIDTH*HEIGHT);\n",
        "  for (int i=0; i < WIDTH * HEIGHT; ++i) {\n",
        "    if (i < bar_widht) {\n",
        "      uchar3 temp = {255, 0, 0};\n",
        "      h_brg[i] = temp; \n",
        "    } else if (i < bar_widht*2) {\n",
        "      uchar3 temp = {0, 255, 0};\n",
        "      h_brg[i] = temp;\n",
        "    } else { \n",
        "      uchar3 temp = {0, 0, 255};\n",
        "      h_brg[i] = temp;\n",
        "    }\n",
        "  }\n",
        "\n",
        "  cudaStream_t stream;\n",
        "  cudaStreamCreate(&stream);\n",
        "\n",
        "  // Alloc RGBA pointers\n",
        "  h_rgba = (uchar4*)malloc(sizeof(uchar4)*WIDTH*HEIGHT);\n",
        "\n",
        "  // Alloc gpu pointers\n",
        "  allocGPUData(WIDTH, HEIGHT, &d_brg, &d_rgba);\n",
        "  \n",
        "  // Start measuring time here\n",
        "  auto t1 = std::chrono::high_resolution_clock::now();\n",
        "  copyAndInitializeGPUData(WIDTH, HEIGHT, h_brg, d_brg, d_rgba);\n",
        "\n",
        "  // Execute the GPU kernel\n",
        "  executeKernelconvertBRG2RGBA(WIDTH, HEIGHT, d_brg, d_rgba, EXPERIMENT_ITERATIONS, stream);\n",
        "\n",
        "  // Copy data back from GPU to CPU\n",
        "  CU_CHECK2(cudaMemcpyAsync(h_rgba, d_rgba, sizeof(uchar4)*WIDTH*HEIGHT, cudaMemcpyDeviceToHost, stream), \"Cuda memcpy Device to Host: \");\n",
        "\n",
        "  // Synchronize the stream here\n",
        "  cudaStreamSynchronize(stream);\n",
        "\n",
        "  // Stop measuring time here, and print it\n",
        "  auto t2 = std::chrono::high_resolution_clock::now();\n",
        "  auto duration = std::chrono::duration_cast<std::chrono::microseconds>( t2 - t1 ).count();\n",
        "  std::cout << \"Duration to compare = \"<< duration << \"us\" << std::endl;\n",
        "\n",
        "\n",
        "    \n",
        "  // Check results\n",
        "  bool ok = checkResults(h_rgba, h_brg, WIDTH*HEIGHT);\n",
        "  if (ok) {\n",
        "      std::cout << \"Executed!! Results OK.\" << std::endl;\n",
        "  } else {\n",
        "      std::cout << \"Executed!! Results NOT OK.\" << std::endl;\n",
        "  }\n",
        "\n",
        "  // Free CPU pointers\n",
        "  free(h_rgba);\n",
        "  free(h_brg);\n",
        "\n",
        "  // Free cuda pointers\n",
        "  freeCUDAPointers(d_brg, d_rgba);\n",
        "\n",
        "  cudaStreamDestroy(stream);\n",
        "}"
      ],
      "execution_count": 27,
      "outputs": [
        {
          "output_type": "execute_result",
          "data": {
            "application/vnd.google.colaboratory.intrinsic+json": {
              "type": "string"
            },
            "text/plain": [
              "'File written in /content/src/experiment.h'"
            ]
          },
          "metadata": {
            "tags": []
          },
          "execution_count": 27
        }
      ]
    },
    {
      "cell_type": "markdown",
      "metadata": {
        "id": "4Cb3WvwUW6E7"
      },
      "source": [
        "Do the following:\n",
        "\n",
        "1.   Use the fastest kernel version.\n",
        "2.   Use number of iterations = 1.\n",
        "3.   Compare the same kernel, with the original Host code, and this new Host code.\n",
        "4.   To do so, you can use the code you do now, you only need to set stream=0 in order to simulate the original code.\n",
        "5.   Execute it with the following code.\n",
        "6.   Compare and try to explain the performance difference in the report.\n"
      ]
    },
    {
      "cell_type": "code",
      "metadata": {
        "id": "icJq5yuCW9f_",
        "colab": {
          "base_uri": "https://localhost:8080/"
        },
        "outputId": "efe8faef-116b-469b-c10b-046ad827f3e0"
      },
      "source": [
        "%%cu\n",
        "#include \"/content/src/experiment.h\"\n",
        "int main() {\n",
        "\n",
        "  executeExperiment();\n",
        "\n",
        "  return 0;\n",
        "}"
      ],
      "execution_count": 28,
      "outputs": [
        {
          "output_type": "stream",
          "text": [
            "convertBRG2RGBA time for 100 iterations = 13342us\n",
            "Duration to compare = 28823us\n",
            "First position x=0 y=0 z=255 w=255\n",
            "Executed!! Results OK.\n",
            "\n"
          ],
          "name": "stdout"
        }
      ]
    },
    {
      "cell_type": "markdown",
      "metadata": {
        "id": "wSZuoDHPafdS"
      },
      "source": [
        "Section 6 comments:\n",
        "\n",
        "|              | 1 ITERATION | 100 ITERATIONS|\n",
        "|--------------|-------------|---------------|\n",
        "|Original Host | 21468 us    | 54050 us      |\n",
        "|Nwe Host      | 21148 us    |54138 us       |\n"
      ]
    }
  ]
}