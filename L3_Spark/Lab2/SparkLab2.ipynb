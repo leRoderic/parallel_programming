{
 "cells": [
  {
   "cell_type": "markdown",
   "metadata": {
    "id": "qVryd47Toj3B"
   },
   "source": [
    "# PySpark Lab2\n",
    "\n",
    "In this lab we will see and test some more functionality of Spark.\n",
    "\n",
    "As in the previous lab, we start the notebook by installing pyspark."
   ]
  },
  {
   "cell_type": "code",
   "execution_count": null,
   "metadata": {
    "id": "b_t7OxPVkNtS"
   },
   "outputs": [],
   "source": [
    "!pip install pyspark"
   ]
  },
  {
   "cell_type": "markdown",
   "metadata": {
    "id": "67mX47PSp59i"
   },
   "source": [
    "## Get the dataset\n",
    "\n",
    "In order to have a fast way to get the dataset we have prepared for this lab, we created a link to a file containing it in another google account, and written down all the necessary steps to get the file in the current path.\n",
    "\n",
    "This file is 2007.csv, and contains information about flights during the year 2007.\n",
    "\n",
    "Now, execute the following code cell."
   ]
  },
  {
   "cell_type": "code",
   "execution_count": 1,
   "metadata": {
    "id": "aQaMx5sxvIto"
   },
   "outputs": [
    {
     "name": "stdout",
     "output_type": "stream",
     "text": [
      "Downloading...\n",
      "From: https://drive.google.com/uc?id=1QJ-wDWTc3oM_jbSlb5cB3HPJ7Jwy5iAH\n",
      "To: /home/rcq/parallel_programming/L3_Spark/Lab2/SparkTutorials2i3.zip\n",
      "887MB [00:23, 37.2MB/s] \n",
      "Archive:  SparkTutorials2i3.zip\n",
      "   creating: Spark_Tutorial2/\n",
      "  inflating: Spark_Tutorial2/.DS_Store  \n",
      "   creating: __MACOSX/\n",
      "   creating: __MACOSX/Spark_Tutorial2/\n",
      "  inflating: __MACOSX/Spark_Tutorial2/._.DS_Store  \n",
      "  inflating: Spark_Tutorial2/2008.csv  \n",
      "  inflating: __MACOSX/Spark_Tutorial2/._2008.csv  \n",
      "  inflating: Spark_Tutorial2/2007.csv  \n",
      "  inflating: __MACOSX/Spark_Tutorial2/._2007.csv  \n",
      "  inflating: Spark_Tutorial2/2006.csv  \n",
      "  inflating: __MACOSX/Spark_Tutorial2/._2006.csv  \n",
      "  inflating: Spark_Tutorial2/tutorial2.pdf  \n",
      "  inflating: __MACOSX/Spark_Tutorial2/._tutorial2.pdf  \n",
      "  inflating: __MACOSX/._Spark_Tutorial2  \n",
      "   creating: Spark_Tutorial3/\n",
      "  inflating: Spark_Tutorial3/Tutorial3.zip  \n",
      "   creating: __MACOSX/Spark_Tutorial3/\n",
      "  inflating: __MACOSX/Spark_Tutorial3/._Tutorial3.zip  \n",
      "  inflating: Spark_Tutorial3/.DS_Store  \n",
      "  inflating: __MACOSX/Spark_Tutorial3/._.DS_Store  \n",
      "  inflating: Spark_Tutorial3/graphframes-0.5.0-spark2.1-s_2.11.jar  \n",
      "  inflating: __MACOSX/Spark_Tutorial3/._graphframes-0.5.0-spark2.1-s_2.11.jar  \n",
      "  inflating: Spark_Tutorial3/2007.csv  \n",
      "  inflating: __MACOSX/Spark_Tutorial3/._2007.csv  \n",
      "  inflating: Spark_Tutorial3/tutorial3.pdf  \n",
      "  inflating: __MACOSX/Spark_Tutorial3/._tutorial3.pdf  \n",
      "  inflating: __MACOSX/._Spark_Tutorial3  \n",
      "2006.csv  2007.csv  2008.csv  SparkLab2.ipynb\n"
     ]
    }
   ],
   "source": [
    "!gdown --id \"1QJ-wDWTc3oM_jbSlb5cB3HPJ7Jwy5iAH\"\n",
    "!unzip SparkTutorials2i3.zip\n",
    "!mv Spark_Tutorial2/2006.csv Spark_Tutorial2/2007.csv Spark_Tutorial2/2008.csv .\n",
    "!rm -r __MACOSX/ Spark_Tutorial3/ Spark_Tutorial2 SparkTutorials2i3.zip\n",
    "!ls"
   ]
  },
  {
   "cell_type": "markdown",
   "metadata": {
    "id": "uwY3OIb-5TfR"
   },
   "source": [
    "## Map Reduce in Spark\n",
    "\n",
    "For this lab we will be using three files. Let's load them!"
   ]
  },
  {
   "cell_type": "code",
   "execution_count": 2,
   "metadata": {
    "id": "qUcg6USv37DY"
   },
   "outputs": [
    {
     "name": "stdout",
     "output_type": "stream",
     "text": [
      "df2006 number of partitions 6\n",
      "df2007 number of partitions 6\n",
      "df2008 number of partitions 6\n"
     ]
    }
   ],
   "source": [
    "import pyspark\n",
    "from pyspark.sql import SparkSession\n",
    "\n",
    "spark = SparkSession.builder.master(\"local[1]\").appName('testSparkSession').getOrCreate()\n",
    "\n",
    "df2006 = spark.read.format(\"csv\").option(\"header\", \"true\").option(\"nullValue\",\"NA\").option(\"inferSchema\", \"true\").load(\"2006.csv\")\n",
    "df2007 = spark.read.format(\"csv\").option(\"header\", \"true\").option(\"nullValue\",\"NA\").option(\"inferSchema\", \"true\").load(\"2007.csv\")\n",
    "df2008 = spark.read.format(\"csv\").option(\"header\", \"true\").option(\"nullValue\",\"NA\").option(\"inferSchema\", \"true\").load(\"2008.csv\")\n",
    "\n",
    "print (\"df2006 number of partitions\", df2006.rdd.getNumPartitions())\n",
    "print (\"df2007 number of partitions\", df2007.rdd.getNumPartitions())\n",
    "print (\"df2008 number of partitions\", df2008.rdd.getNumPartitions())"
   ]
  },
  {
   "cell_type": "markdown",
   "metadata": {
    "id": "74y4TJdVGZMM"
   },
   "source": [
    "Now we loaded the three files and checked the number of partitions for each of them.\n",
    "\n",
    "Let's check the number of elements of each dataframe too."
   ]
  },
  {
   "cell_type": "code",
   "execution_count": 3,
   "metadata": {
    "id": "2j3ixQKnGYC5"
   },
   "outputs": [
    {
     "name": "stdout",
     "output_type": "stream",
     "text": [
      "df2006 number of elements 7141922\n",
      "df2007 number of elements 7453215\n",
      "df2008 number of elements 7009728\n"
     ]
    }
   ],
   "source": [
    "print (\"df2006 number of elements\", df2006.count())\n",
    "print (\"df2007 number of elements\", df2007.count())\n",
    "print (\"df2008 number of elements\", df2008.count())"
   ]
  },
  {
   "cell_type": "markdown",
   "metadata": {
    "id": "W-r6hwUKG8S1"
   },
   "source": [
    "Let's now unify all data frames into one"
   ]
  },
  {
   "cell_type": "code",
   "execution_count": 4,
   "metadata": {
    "id": "Ji3M8IL0G_HM"
   },
   "outputs": [],
   "source": [
    "df1 = df2006.union(df2007).union(df2008)"
   ]
  },
  {
   "cell_type": "markdown",
   "metadata": {
    "id": "6P5P4JDoRlKs"
   },
   "source": [
    "How many elements?"
   ]
  },
  {
   "cell_type": "code",
   "execution_count": 5,
   "metadata": {
    "id": "WsbvuhiNRlWt"
   },
   "outputs": [
    {
     "data": {
      "text/plain": [
       "21604865"
      ]
     },
     "execution_count": 5,
     "metadata": {},
     "output_type": "execute_result"
    }
   ],
   "source": [
    "df1.count()"
   ]
  },
  {
   "cell_type": "markdown",
   "metadata": {
    "id": "nOL8lTspRltt"
   },
   "source": [
    "How many partitions?"
   ]
  },
  {
   "cell_type": "code",
   "execution_count": 6,
   "metadata": {
    "id": "qzug6JXIRl-J"
   },
   "outputs": [
    {
     "data": {
      "text/plain": [
       "18"
      ]
     },
     "execution_count": 6,
     "metadata": {},
     "output_type": "execute_result"
    }
   ],
   "source": [
    "df1.rdd.getNumPartitions()"
   ]
  },
  {
   "cell_type": "markdown",
   "metadata": {
    "id": "PYKBLZBwHDPe"
   },
   "source": [
    "Let's now do some filterting.\n",
    "\n",
    "First we pick some columns, and remove the na values"
   ]
  },
  {
   "cell_type": "code",
   "execution_count": 7,
   "metadata": {
    "id": "uzzn5Wp_HDiG"
   },
   "outputs": [],
   "source": [
    "df2 = df1.select(\"Year\", \"Month\", \"Origin\", \"Dest\", \"ArrDelay\", \"DepDelay\")\n",
    "df3 = df2.na.drop()"
   ]
  },
  {
   "cell_type": "markdown",
   "metadata": {
    "id": "mJuH-Mh4IVgs"
   },
   "source": [
    "Now, as in the other lab we compute the sum of arrival and departure delays, and store it in a new column"
   ]
  },
  {
   "cell_type": "code",
   "execution_count": 8,
   "metadata": {
    "id": "SJjZ3NuDIWDj"
   },
   "outputs": [],
   "source": [
    "from pyspark.sql.functions import expr\n",
    "df4 = df3.withColumn(\"SumDelay\", expr(\"ArrDelay + DepDelay\"))"
   ]
  },
  {
   "cell_type": "markdown",
   "metadata": {
    "id": "7TwviX7jIYzE"
   },
   "source": [
    "Again, we will use the cache functionality, to execute faster from this point"
   ]
  },
  {
   "cell_type": "code",
   "execution_count": 9,
   "metadata": {
    "id": "38dU-IP0IZCx"
   },
   "outputs": [
    {
     "data": {
      "text/plain": [
       "DataFrame[Year: int, Month: int, Origin: string, Dest: string, ArrDelay: int, DepDelay: int, SumDelay: int]"
      ]
     },
     "execution_count": 9,
     "metadata": {},
     "output_type": "execute_result"
    }
   ],
   "source": [
    "df4.cache()"
   ]
  },
  {
   "cell_type": "markdown",
   "metadata": {
    "id": "1BSWcwi3IbZd"
   },
   "source": [
    "Let's use grouping operations, to get for instance the averafe SumDelay for each Origin"
   ]
  },
  {
   "cell_type": "code",
   "execution_count": 10,
   "metadata": {
    "id": "kDIGYMXQIb64"
   },
   "outputs": [
    {
     "name": "stdout",
     "output_type": "stream",
     "text": [
      "+------+-------------------+\n",
      "|Origin|      avg(SumDelay)|\n",
      "+------+-------------------+\n",
      "|   BGM| 14.275419982316533|\n",
      "|   DLG| 29.520242914979757|\n",
      "|   PSE| 1.6995652173913043|\n",
      "|   INL|  14.50936329588015|\n",
      "|   MSY| 16.297211527465407|\n",
      "|   GEG|   8.89446637700977|\n",
      "|   BUR| 12.278206798656793|\n",
      "|   SNA| 10.670062286517982|\n",
      "|   GRB|  20.25246703344686|\n",
      "|   GTF|-1.4841212989493793|\n",
      "|   IDA|   2.70422379478107|\n",
      "|   GRR| 15.865221292490036|\n",
      "|   LWB| 29.194295900178254|\n",
      "|   EUG| 11.089682627446644|\n",
      "|   PSG|  22.49418604651163|\n",
      "|   MYR| 19.363025389374865|\n",
      "|   PVD|  16.99863997911887|\n",
      "|   GSO| 21.790378090751545|\n",
      "|   ISO|  34.06303724928367|\n",
      "|   OAK|  12.94959132626464|\n",
      "+------+-------------------+\n",
      "only showing top 20 rows\n",
      "\n"
     ]
    },
    {
     "data": {
      "text/plain": [
       "315"
      ]
     },
     "execution_count": 10,
     "metadata": {},
     "output_type": "execute_result"
    }
   ],
   "source": [
    "from pyspark.sql.functions import avg\n",
    "df5 = df4.groupBy(\"Origin\").agg(avg(\"SumDelay\"))\n",
    "df5.show()\n",
    "df5.count()"
   ]
  },
  {
   "cell_type": "markdown",
   "metadata": {
    "id": "p_xRayVxZQda"
   },
   "source": [
    "We can also rename a column"
   ]
  },
  {
   "cell_type": "code",
   "execution_count": 11,
   "metadata": {
    "id": "QIhRM75_ZNuZ"
   },
   "outputs": [
    {
     "name": "stdout",
     "output_type": "stream",
     "text": [
      "+------+-------------------+\n",
      "|Origin|      Average Delay|\n",
      "+------+-------------------+\n",
      "|   BGM| 14.275419982316533|\n",
      "|   DLG| 29.520242914979757|\n",
      "|   PSE| 1.6995652173913043|\n",
      "|   INL|  14.50936329588015|\n",
      "|   MSY| 16.297211527465407|\n",
      "|   GEG|   8.89446637700977|\n",
      "|   BUR| 12.278206798656793|\n",
      "|   SNA| 10.670062286517982|\n",
      "|   GRB|  20.25246703344686|\n",
      "|   GTF|-1.4841212989493793|\n",
      "|   IDA|   2.70422379478107|\n",
      "|   GRR| 15.865221292490036|\n",
      "|   LWB| 29.194295900178254|\n",
      "|   EUG| 11.089682627446644|\n",
      "|   PSG|  22.49418604651163|\n",
      "|   MYR| 19.363025389374865|\n",
      "|   PVD|  16.99863997911887|\n",
      "|   GSO| 21.790378090751545|\n",
      "|   ISO|  34.06303724928367|\n",
      "|   OAK|  12.94959132626464|\n",
      "+------+-------------------+\n",
      "only showing top 20 rows\n",
      "\n"
     ]
    }
   ],
   "source": [
    "df6 = df5.withColumnRenamed(\"avg(SumDelay)\", \"Average Delay\")\n",
    "df6.show()"
   ]
  },
  {
   "cell_type": "code",
   "execution_count": null,
   "metadata": {},
   "outputs": [],
   "source": []
  }
 ],
 "metadata": {
  "colab": {
   "name": "SparkLab2.ipynb",
   "provenance": []
  },
  "kernelspec": {
   "display_name": "Python 3",
   "language": "python",
   "name": "python3"
  },
  "language_info": {
   "codemirror_mode": {
    "name": "ipython",
    "version": 3
   },
   "file_extension": ".py",
   "mimetype": "text/x-python",
   "name": "python",
   "nbconvert_exporter": "python",
   "pygments_lexer": "ipython3",
   "version": "3.8.8"
  }
 },
 "nbformat": 4,
 "nbformat_minor": 4
}
